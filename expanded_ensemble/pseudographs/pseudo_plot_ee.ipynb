{
 "cells": [
  {
   "cell_type": "code",
   "execution_count": 29,
   "metadata": {
    "collapsed": false
   },
   "outputs": [
    {
     "name": "stdout",
     "output_type": "stream",
     "text": [
      "Using matplotlib backend: TkAgg\n"
     ]
    }
   ],
   "source": [
    "## Reqs\n",
    "import pandas as pd\n",
    "import os\n",
    "import math\n",
    "import random\n",
    "import matplotlib\n",
    "import matplotlib.pyplot as plt\n",
    "\n",
    "%matplotlib"
   ]
  },
  {
   "cell_type": "code",
   "execution_count": 60,
   "metadata": {
    "collapsed": false
   },
   "outputs": [],
   "source": [
    "## Function to create plot for simulation variation over time\n",
    "def simulations_resource_vs_time():\n",
    "\n",
    "    ## Setup\n",
    "    df_sim = pd.DataFrame(columns=['Number of executing simulations'])\n",
    "    df_res = pd.DataFrame(columns=['Resource Usage'])\n",
    "    \n",
    "    total_replicas = 1024\n",
    "    tte = 2000\n",
    "    const_tte = 0.7\n",
    "    \n",
    "    ## Create data\n",
    "    sims = [total_replicas for i in range(int(const_tte*tte))]\n",
    "    res = [100 for i in range(int(const_tte*tte))]\n",
    "    #print len(d)\n",
    "\n",
    "    temp_replicas = total_replicas\n",
    "    temp_resource = 100\n",
    "    \n",
    "    while(temp_replicas > 0):\n",
    "        temp_replicas -= random.randint(1,5)\n",
    "        \n",
    "        # Limiting replica count\n",
    "        if temp_replicas <=0:\n",
    "            sims+=[0]\n",
    "        else:\n",
    "            sims+= [temp_replicas]\n",
    "        \n",
    "        flip = random.randint(0,1)\n",
    "        if flip == 0:\n",
    "            temp_resource -= 2\n",
    "        else:\n",
    "            temp_resource += 2\n",
    "            \n",
    "        # Limiting resource usage\n",
    "        if temp_resource > 100:\n",
    "            temp_resource = 100\n",
    "        elif temp_resource < 90:\n",
    "            temp_resource = 92\n",
    "            \n",
    "        res += [temp_resource]\n",
    "        \n",
    "    res.extend([0]*(tte-len(sims)))\n",
    "    sims.extend([0]*(tte-len(sims)))\n",
    "    #print len(d)\n",
    "    \n",
    "    \n",
    "    ## Create plot using above data\n",
    "    for i in range(len(sims)):\n",
    "        df_sim.loc['{0}'.format(i)] = sims[i]\n",
    "        df_res.loc['{0}'.format(i)] = res[i]\n",
    "\n",
    "    \n",
    "    ax1 = df_res.plot(kind='line', ylim=(0,160),color='red', \n",
    "                      title=\"Variation of number of executing simulations and their resource usage over time in Adaptive Expanded Ensemble\",\n",
    "                      fontsize=18,\n",
    "                      xlim=(0,tte), legend=False)\n",
    "    ax1.set_ylabel(\"Resource usage (%)\", fontsize=18)\n",
    "    ax1.set_xlabel('Time elapsed (mins)', fontsize=18)\n",
    "    \n",
    "    \n",
    "    ax2 = ax1.twinx()\n",
    "    \n",
    "    ax2 = df_sim.plot(ax=ax2, kind='line', secondary_y=True, ylim=(0,1.5*total_replicas+100), fontsize=18, legend=False)\n",
    "    ax2.set_ylabel('# of simulations', fontsize=18)    \n",
    "    \n",
    "    ax1.legend(loc='upper left', fontsize=18)\n",
    "    ax2.legend(loc='upper right', fontsize=18)\n",
    "    fig = plt.gcf()\n",
    "    fig.set_size_inches(16,6)\n",
    "    fig.savefig('simulations_resource_vs_time.png', dpi=100)"
   ]
  },
  {
   "cell_type": "code",
   "execution_count": 61,
   "metadata": {
    "collapsed": false
   },
   "outputs": [],
   "source": [
    "## MAIN CELL\n",
    "\n",
    "simulations_resource_vs_time()"
   ]
  },
  {
   "cell_type": "code",
   "execution_count": null,
   "metadata": {
    "collapsed": true
   },
   "outputs": [],
   "source": []
  }
 ],
 "metadata": {
  "kernelspec": {
   "display_name": "Python 2",
   "language": "python",
   "name": "python2"
  },
  "language_info": {
   "codemirror_mode": {
    "name": "ipython",
    "version": 2
   },
   "file_extension": ".py",
   "mimetype": "text/x-python",
   "name": "python",
   "nbconvert_exporter": "python",
   "pygments_lexer": "ipython2",
   "version": "2.7.12"
  }
 },
 "nbformat": 4,
 "nbformat_minor": 1
}
